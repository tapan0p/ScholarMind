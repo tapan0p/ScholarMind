{
 "cells": [
  {
   "cell_type": "code",
   "execution_count": 15,
   "metadata": {},
   "outputs": [],
   "source": [
    "from langgraph.graph import StateGraph,END\n",
    "from typing import TypedDict\n",
    "\n",
    "def search_agent(state):\n",
    "    search_result = f\"Searching for {state['query']}\"\n",
    "    state[\"search_result\"] = search_result\n",
    "    return state\n",
    "\n",
    "def summarize_agent(state):\n",
    "    search_result = state[\"search_result\"]\n",
    "    summary_result = f\"Summarizing {search_result}\"\n",
    "    state[\"summary_result\"] = summary_result\n",
    "    return state"
   ]
  },
  {
   "cell_type": "code",
   "execution_count": 16,
   "metadata": {},
   "outputs": [],
   "source": [
    "class GraphState(TypedDict):\n",
    "    query:str\n",
    "    search_result:str\n",
    "    summary_result:str\n",
    "\n",
    "workflow = StateGraph(state_schema=GraphState)\n",
    "\n",
    "# Nodes\n",
    "workflow.add_node('search',search_agent)\n",
    "workflow.add_node('summarize',summarize_agent)\n",
    "\n",
    "# Edges \n",
    "workflow.set_entry_point('search')\n",
    "workflow.add_edge('search','summarize')\n",
    "workflow.add_edge('summarize',END)\n",
    "\n",
    "app = workflow.compile()\n"
   ]
  },
  {
   "cell_type": "code",
   "execution_count": 17,
   "metadata": {},
   "outputs": [
    {
     "name": "stdout",
     "output_type": "stream",
     "text": [
      "{'query': 'Explain LangGraph', 'search_result': 'Searching for Explain LangGraph', 'summary_result': 'Summarizing Searching for Explain LangGraph'}\n"
     ]
    }
   ],
   "source": [
    "result = app.invoke({\"query\": \"Explain LangGraph\"})\n",
    "print(result)"
   ]
  },
  {
   "cell_type": "code",
   "execution_count": 21,
   "metadata": {},
   "outputs": [
    {
     "data": {
      "image/png": "[encoded data removed]",
      "text/plain": [
       "<IPython.core.display.Image object>"
      ]
     },
     "metadata": {},
     "output_type": "display_data"
    }
   ],
   "source": [
    "from IPython.display import Image, display\n",
    "display(Image(app.get_graph().draw_mermaid_png()))"
   ]
  },
  {
   "cell_type": "code",
   "execution_count": 2,
   "metadata": {},
   "outputs": [],
   "source": [
    "from typing import Annotated\n",
    "from typing_extensions import TypedDict\n",
    "from langgraph.graph import StateGraph,START,END \n",
    "from langgraph.graph.message import add_messages\n",
    "from langchain_ollama import ChatOllama\n",
    "from langchain_core.messages import BaseMessage, HumanMessage"
   ]
  },
  {
   "cell_type": "code",
   "execution_count": 9,
   "metadata": {},
   "outputs": [],
   "source": [
    "class State(TypedDict):\n",
    "    messages: Annotated[list[BaseMessage], add_messages]\n",
    "\n",
    "model = ChatOllama(model=\"llama3.2:1b\")\n",
    "\n",
    "def chatbot(state: State):\n",
    "    response = model.invoke(state[\"messages\"])\n",
    "    return {\"messages\": [response]}\n",
    "\n",
    "workflow = StateGraph(State)\n",
    "workflow.add_node(\"chatbot\", chatbot)\n",
    "workflow.add_edge(START, \"chatbot\")\n",
    "workflow.add_edge(\"chatbot\", END)\n",
    "app = workflow.compile()"
   ]
  },
  {
   "cell_type": "code",
   "execution_count": 27,
   "metadata": {},
   "outputs": [
    {
     "name": "stdout",
     "output_type": "stream",
     "text": [
      "Human: Hello!\n",
      "Bot: Hello! How can I assist you today?\n",
      "Human: How are you?\n",
      "Bot: I'm doing well, thanks for asking. It's nice to have a chance to chat with you. Is there anything on your mind that you'd like to talk about, or are you just looking for some small talk? I'm here to listen and help if I can.\n"
     ]
    }
   ],
   "source": [
    "def chat_once(message, history=[]):\n",
    "    if not history:\n",
    "        history = []\n",
    "    \n",
    "    history.append(HumanMessage(content=message))\n",
    "    result = app.invoke({\"messages\": history})\n",
    "    bot_message = result[\"messages\"][-1]\n",
    "    history.append(bot_message)\n",
    "    \n",
    "    return bot_message.content, history\n",
    "\n",
    "# Now you can use it in notebook cells like this:\n",
    "response, history = chat_once(\"Hello!\")\n",
    "print(f\"Bot: {response}\")\n",
    "\n",
    "# For next messages:\n",
    "response, history = chat_once(\"How are you?\", history)\n",
    "print(f\"Bot: {response}\")"
   ]
  },
  {
   "cell_type": "code",
   "execution_count": 28,
   "metadata": {},
   "outputs": [
    {
     "name": "stdout",
     "output_type": "stream",
     "text": [
      "Human: abe chal na?\n",
      "Bot: It seems like you were trying to say \"abhi chala na?\" which is a common Indian expression that means \"just then\" or \"after this\". Is there something specific you'd like to discuss or ask, or would you rather just enjoy the moment and see where it takes us?\n"
     ]
    }
   ],
   "source": [
    "message,response, history = chat_once(\"abe chal na?\", history)\n",
    "print(f\"Human: {message}\")\n",
    "print(f\"Bot: {response}\")"
   ]
  },
  {
   "cell_type": "code",
   "execution_count": 29,
   "metadata": {},
   "outputs": [
    {
     "name": "stdout",
     "output_type": "stream",
     "text": [
      "Human: Hello!\n",
      "Bot: Hello! How can I assist you today?\n",
      "Human: How are you?\n",
      "Bot: I'm doing well, thanks for asking. It's nice to have a chance to chat with you. Is there anything on your mind that you'd like to talk about, or are you just looking for some small talk? I'm here to listen and help if I can.\n",
      "Human: abe chal na?\n",
      "Bot: It seems like you were trying to say \"abhi chala na?\" which is a common Indian expression that means \"just then\" or \"after this\". Is there something specific you'd like to discuss or ask, or would you rather just enjoy the moment and see where it takes us?\n"
     ]
    }
   ],
   "source": [
    "for chat in history:\n",
    "    ## check if human or bot\n",
    "    if chat.type == \"human\":\n",
    "        print(f\"Human: {chat.content}\")\n",
    "    else:\n",
    "        print(f\"Bot: {chat.content}\")\n",
    "\n"
   ]
  },
  {
   "cell_type": "code",
   "execution_count": null,
   "metadata": {},
   "outputs": [
    {
     "name": "stdout",
     "output_type": "stream",
     "text": [
      "The capital of France is Paris.\n"
     ]
    }
   ],
   "source": [
    "print(result[\"messages\"][-1].content)"
   ]
  },
  {
   "cell_type": "markdown",
   "metadata": {},
   "source": []
  },
  {
   "cell_type": "code",
   "execution_count": 40,
   "metadata": {},
   "outputs": [
    {
     "name": "stdout",
     "output_type": "stream",
     "text": [
      "[HumanMessage(content='What is the capital of France?', additional_kwargs={}, response_metadata={}, id='706586bf-9cdf-4a0f-8312-e81235ea862d'), AIMessage(content='The capital of France is Paris.', additional_kwargs={}, response_metadata={'model': 'qwen2.5:3b', 'created_at': '2025-04-05T20:55:30.173716Z', 'done': True, 'done_reason': 'stop', 'total_duration': 2027959900, 'load_duration': 78427100, 'prompt_eval_count': 36, 'prompt_eval_duration': 1288000000, 'eval_count': 8, 'eval_duration': 600000000, 'message': Message(role='assistant', content='', images=None, tool_calls=None)}, id='run-0491ffd0-98dd-4418-a718-a2bd16988c41-0', usage_metadata={'input_tokens': 36, 'output_tokens': 8, 'total_tokens': 44})]\n"
     ]
    }
   ],
   "source": [
    "print(result[\"messages\"])"
   ]
  },
  {
   "cell_type": "code",
   "execution_count": 30,
   "metadata": {},
   "outputs": [
    {
     "data": {
      "image/png": "[encoded data removed]",
      "text/plain": [
       "<IPython.core.display.Image object>"
      ]
     },
     "metadata": {},
     "output_type": "display_data"
    }
   ],
   "source": [
    "from IPython.display import Image, display\n",
    "display(Image(app.get_graph().draw_mermaid_png()))"
   ]
  }
 ],
 "metadata": {
  "kernelspec": {
   "display_name": "Python 3",
   "language": "python",
   "name": "python3"
  },
  "language_info": {
   "codemirror_mode": {
    "name": "ipython",
    "version": 3
   },
   "file_extension": ".py",
   "mimetype": "text/x-python",
   "name": "python",
   "nbconvert_exporter": "python",
   "pygments_lexer": "ipython3",
   "version": "3.11.7"
  }
 },
 "nbformat": 4,
 "nbformat_minor": 2
}
