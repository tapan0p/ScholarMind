{
 "cells": [
  {
   "cell_type": "code",
   "execution_count": 1,
   "metadata": {},
   "outputs": [],
   "source": [
    "import os\n",
    "from typing import Dict, List, TypedDict, Annotated\n",
    "from langgraph.graph import StateGraph, END,START\n",
    "from langchain_core.messages import HumanMessage, AIMessage\n",
    "from langchain_core.tools import tool\n",
    "import requests\n",
    "from langchain_core.prompts import ChatPromptTemplate\n",
    "from dotenv import load_dotenv\n",
    "from langchain_groq import ChatGroq\n",
    "load_dotenv()\n",
    "import arxiv"
   ]
  },
  {
   "cell_type": "code",
   "execution_count": 25,
   "metadata": {},
   "outputs": [],
   "source": [
    "# Define the state for the graph\n",
    "class State(TypedDict):\n",
    "    messages: Annotated[List[HumanMessage | AIMessage], \"The chat history\"]\n",
    "\n",
    "# Define the search tool \n",
    "\n",
    "@tool\n",
    "def search_arxiv(query:str,max_results:int=3) -> List[Dict]:\n",
    "    \"\"\"Search research papers on Arxiv based on a given query\"\"\"\n",
    "    client = arxiv.Client()\n",
    "    search = arxiv.Search(\n",
    "        query = query,\n",
    "        max_results=max_results,\n",
    "        sort_by = arxiv.SortCriterion.Relevance\n",
    "    )\n",
    "\n",
    "    try:\n",
    "        results = client.results(search)\n",
    "        papers = []\n",
    "        for result in results:\n",
    "            papers.append({\n",
    "                \"title\": result.title,\n",
    "                \"abstract\": result.summary,\n",
    "                \"authors\": [author.name for author in result.authors],\n",
    "                \"published\": result.published.strftime(\"%Y-%m-%d\"),\n",
    "                \"url\": result.pdf_url\n",
    "            })\n",
    "        return papers\n",
    "    except Exception as e:\n",
    "        return f\"Error searching Arxiv: {e}\"\n"
   ]
  },
  {
   "cell_type": "code",
   "execution_count": 26,
   "metadata": {},
   "outputs": [],
   "source": [
    "# Initialize the LLM\n",
    "llm = ChatGroq(model=\"llama3-70b-8192\")\n",
    "\n",
    "# Define the prompt template\n",
    "prompt = ChatPromptTemplate.from_messages([\n",
    "    (\"system\", \"\"\"You are a helpful AI assistant capable of answering general questions and searching for research papers on arXiv. Only use the search_arxiv tool when the user explicitly asks to search for research papers (e.g., phrases like 'search for papers,' 'find papers,' or 'look up research on'). For all other questions, including general inquiries about a topic, provide a concise and relevant response without using the tool.\"\"\"),\n",
    "    (\"placeholder\", \"{messages}\")\n",
    "])\n",
    "\n",
    "\n",
    "llm_with_tools = llm.bind_tools([search_arxiv])\n",
    "\n",
    "model = prompt | llm_with_tools"
   ]
  },
  {
   "cell_type": "code",
   "execution_count": 27,
   "metadata": {},
   "outputs": [],
   "source": [
    "def llm_node(state:State) -> State:\n",
    "    messages = state[\"messages\"]\n",
    "    response = model.invoke(state)\n",
    "    return {\"messages\":messages+[response]}\n",
    "\n",
    "def tool_node(state: State)->State:\n",
    "    messages = state[\"messages\"]\n",
    "    last_message = messages[-1]\n",
    "    if last_message.tool_calls:\n",
    "        tool_call = last_message.tool_calls[0]\n",
    "        if tool_call[\"name\"] == \"search_arxiv\":\n",
    "            results = search_arxiv.invoke(tool_call[\"args\"])\n",
    "            tool_response = AIMessage(\n",
    "                content = f\"Found {len(results)} papers:\\n\" + \"\\n\".join(\n",
    "                    [f\"**Title:** {paper['title']}\\n\"\n",
    "                    f\"**Authors:** {', '.join(paper['authors'])}\\n\"\n",
    "                    f\"**Published:** {paper['published']}\\n\"\n",
    "                    f\"**Abstract:** {paper['abstract']}\\n\"\n",
    "                    f\"**PDF:** {paper['url']}\\n\"\n",
    "                    for paper in results]\n",
    "                )\n",
    "            )\n",
    "            return {\"messages\":messages+[tool_response]}\n",
    "    return state\n",
    "\n",
    "\n",
    "def should_call_tool(state:State) -> str:\n",
    "    last_message = state[\"messages\"][-1]\n",
    "    if last_message.tool_calls:\n",
    "        return \"tools\"\n",
    "    return \"end\"\n"
   ]
  },
  {
   "cell_type": "code",
   "execution_count": 33,
   "metadata": {},
   "outputs": [],
   "source": [
    "#Building the graph\n",
    "workflow = StateGraph(State)\n",
    "\n",
    "# Add nodes\n",
    "workflow.add_node(\"llm\",llm_node)\n",
    "workflow.add_node(\"tools\",tool_node)\n",
    "\n",
    "# Add edges\n",
    "workflow.add_edge(START,\"llm\")\n",
    "workflow.add_conditional_edges(\n",
    "    \"llm\",\n",
    "    should_call_tool,\n",
    "    {\n",
    "        \"tools\": \"tools\",\n",
    "        \"end\" : END\n",
    "    }\n",
    ")\n",
    "\n",
    "workflow.add_edge(\"tools\", END)\n",
    "\n",
    "graph = workflow.compile()"
   ]
  },
  {
   "cell_type": "code",
   "execution_count": 34,
   "metadata": {},
   "outputs": [
    {
     "data": {
      "image/png": "[encoded data removed]",
      "text/plain": [
       "<IPython.core.display.Image object>"
      ]
     },
     "metadata": {},
     "output_type": "display_data"
    }
   ],
   "source": [
    "from IPython.display import Image, display\n",
    "\n",
    "try:\n",
    "    display(Image(graph.get_graph().draw_mermaid_png()))\n",
    "except Exception:\n",
    "    pass"
   ]
  },
  {
   "cell_type": "code",
   "execution_count": 35,
   "metadata": {},
   "outputs": [],
   "source": [
    "def run_conversation(user_input:str, state:State=None):\n",
    "    if state is None:\n",
    "        state = {\"messages\": []}\n",
    "    state[\"messages\"].append(HumanMessage(content=user_input))\n",
    "    result = graph.invoke(state)\n",
    "    return result,result[\"messages\"][-1].content"
   ]
  },
  {
   "cell_type": "code",
   "execution_count": 42,
   "metadata": {},
   "outputs": [
    {
     "name": "stdout",
     "output_type": "stream",
     "text": [
      "The current weather in Tokyo is not provided, but I can give you a general idea of Tokyo's climate. Tokyo has a humid subtropical climate with four distinct seasons. The summer months (June to August) are hot and humid, with temperatures often reaching over 30°C (86°F). The winter months (December to February) are cool, with temperatures ranging from 0°C to 10°C (32°F to 50°F). Spring (March to May) and autumn (September to November) are mild and comfortable, with temperatures between 10°C to 20°C (50°F to 68°F).\n"
     ]
    }
   ],
   "source": [
    "state = None\n",
    "state,response = run_conversation(\"what is the weather in Tokyo?\",state)\n",
    "print(response)"
   ]
  },
  {
   "cell_type": "code",
   "execution_count": 43,
   "metadata": {},
   "outputs": [
    {
     "name": "stdout",
     "output_type": "stream",
     "text": [
      "Machine learning is a subfield of artificial intelligence that involves using algorithms and statistical models to enable machines to learn from data, make decisions, and improve their performance on a task without being explicitly programmed. In other words, machine learning allows systems to automatically improve their performance on a task by learning from experience and adapting to new data. This is achieved by identifying patterns in data and making predictions or decisions based on that data. Machine learning has numerous applications, including image and speech recognition, natural language processing, recommender systems, and predictive analytics.\n"
     ]
    }
   ],
   "source": [
    "state,response = run_conversation(\"What is machine learning?\",state)\n",
    "print(response)"
   ]
  },
  {
   "cell_type": "code",
   "execution_count": 45,
   "metadata": {},
   "outputs": [
    {
     "name": "stdout",
     "output_type": "stream",
     "text": [
      "Found 5 papers:\n",
      "**Title:** Lecture Notes: Optimization for Machine Learning\n",
      "**Authors:** Elad Hazan\n",
      "**Published:** 2019-09-08\n",
      "**Abstract:** Lecture notes on optimization for machine learning, derived from a course at\n",
      "Princeton University and tutorials given in MLSS, Buenos Aires, as well as\n",
      "Simons Foundation, Berkeley.\n",
      "**PDF:** http://arxiv.org/pdf/1909.03550v1\n",
      "\n",
      "**Title:** An Optimal Control View of Adversarial Machine Learning\n",
      "**Authors:** Xiaojin Zhu\n",
      "**Published:** 2018-11-11\n",
      "**Abstract:** I describe an optimal control view of adversarial machine learning, where the\n",
      "dynamical system is the machine learner, the input are adversarial actions, and\n",
      "the control costs are defined by the adversary's goals to do harm and be hard\n",
      "to detect. This view encompasses many types of adversarial machine learning,\n",
      "including test-item attacks, training-data poisoning, and adversarial reward\n",
      "shaping. The view encourages adversarial machine learning researcher to utilize\n",
      "advances in control theory and reinforcement learning.\n",
      "**PDF:** http://arxiv.org/pdf/1811.04422v1\n",
      "\n",
      "**Title:** Minimax deviation strategies for machine learning and recognition with short learning samples\n",
      "**Authors:** Michail Schlesinger, Evgeniy Vodolazskiy\n",
      "**Published:** 2017-07-16\n",
      "**Abstract:** The article is devoted to the problem of small learning samples in machine\n",
      "learning. The flaws of maximum likelihood learning and minimax learning are\n",
      "looked into and the concept of minimax deviation learning is introduced that is\n",
      "free of those flaws.\n",
      "**PDF:** http://arxiv.org/pdf/1707.04849v1\n",
      "\n",
      "**Title:** Machine Learning for Clinical Predictive Analytics\n",
      "**Authors:** Wei-Hung Weng\n",
      "**Published:** 2019-09-19\n",
      "**Abstract:** In this chapter, we provide a brief overview of applying machine learning\n",
      "techniques for clinical prediction tasks. We begin with a quick introduction to\n",
      "the concepts of machine learning and outline some of the most common machine\n",
      "learning algorithms. Next, we demonstrate how to apply the algorithms with\n",
      "appropriate toolkits to conduct machine learning experiments for clinical\n",
      "prediction tasks. The objectives of this chapter are to (1) understand the\n",
      "basics of machine learning techniques and the reasons behind why they are\n",
      "useful for solving clinical prediction problems, (2) understand the intuition\n",
      "behind some machine learning models, including regression, decision trees, and\n",
      "support vector machines, and (3) understand how to apply these models to\n",
      "clinical prediction problems using publicly available datasets via case\n",
      "studies.\n",
      "**PDF:** http://arxiv.org/pdf/1909.09246v1\n",
      "\n",
      "**Title:** Towards Modular Machine Learning Solution Development: Benefits and Trade-offs\n",
      "**Authors:** Samiyuru Menik, Lakshmish Ramaswamy\n",
      "**Published:** 2023-01-23\n",
      "**Abstract:** Machine learning technologies have demonstrated immense capabilities in\n",
      "various domains. They play a key role in the success of modern businesses.\n",
      "However, adoption of machine learning technologies has a lot of untouched\n",
      "potential. Cost of developing custom machine learning solutions that solve\n",
      "unique business problems is a major inhibitor to far-reaching adoption of\n",
      "machine learning technologies. We recognize that the monolithic nature\n",
      "prevalent in today's machine learning applications stands in the way of\n",
      "efficient and cost effective customized machine learning solution development.\n",
      "In this work we explore the benefits of modular machine learning solutions and\n",
      "discuss how modular machine learning solutions can overcome some of the major\n",
      "solution engineering limitations of monolithic machine learning solutions. We\n",
      "analyze the trade-offs between modular and monolithic machine learning\n",
      "solutions through three deep learning problems; one text based and the two\n",
      "image based. Our experimental results show that modular machine learning\n",
      "solutions have a promising potential to reap the solution engineering\n",
      "advantages of modularity while gaining performance and data advantages in a way\n",
      "the monolithic machine learning solutions do not permit.\n",
      "**PDF:** http://arxiv.org/pdf/2301.09753v1\n",
      "\n"
     ]
    }
   ],
   "source": [
    "state,response = run_conversation(\"Give me some papers on machine learning\",state)\n",
    "print(response)"
   ]
  },
  {
   "cell_type": "code",
   "execution_count": 36,
   "metadata": {},
   "outputs": [
    {
     "name": "stdout",
     "output_type": "stream",
     "text": [
      "A black hole is a region in space where the gravitational pull is so strong that nothing, including light, can escape. It is formed when a massive star collapses in on itself and its gravity becomes so strong that it warps the fabric of spacetime around it. The point of no return, called the event horizon, marks the boundary of the black hole, and once something crosses the event horizon, it is trapped forever. Black holes come in various sizes, ranging from small, stellar-mass black holes formed from the collapse of individual stars, to supermassive black holes found at the centers of galaxies, with masses millions or even billions of times that of the sun.\n"
     ]
    }
   ],
   "source": [
    "state=None\n",
    "\n",
    "while True:\n",
    "    user_input = input(\"You: \")\n",
    "    if user_input.lower() in [\"quite\",\"exit\"]:\n",
    "        break \n",
    "    state,response = run_conversation(user_input,state)\n",
    "    print(response)"
   ]
  },
  {
   "cell_type": "code",
   "execution_count": 37,
   "metadata": {},
   "outputs": [
    {
     "data": {
      "text/plain": [
       "{'messages': [HumanMessage(content='What is a black hole?', additional_kwargs={}, response_metadata={}),\n",
       "  AIMessage(content='A black hole is a region in space where the gravitational pull is so strong that nothing, including light, can escape. It is formed when a massive star collapses in on itself and its gravity becomes so strong that it warps the fabric of spacetime around it. The point of no return, called the event horizon, marks the boundary of the black hole, and once something crosses the event horizon, it is trapped forever. Black holes come in various sizes, ranging from small, stellar-mass black holes formed from the collapse of individual stars, to supermassive black holes found at the centers of galaxies, with masses millions or even billions of times that of the sun.', additional_kwargs={}, response_metadata={'token_usage': {'completion_tokens': 136, 'prompt_tokens': 1021, 'total_tokens': 1157, 'completion_time': 0.418900566, 'prompt_time': 0.063617306, 'queue_time': 1.0294849719999999, 'total_time': 0.482517872}, 'model_name': 'llama3-70b-8192', 'system_fingerprint': 'fp_2f30b0b571', 'finish_reason': 'stop', 'logprobs': None}, id='run-007870f9-5d29-4e7f-a5f7-c669862caf7d-0', usage_metadata={'input_tokens': 1021, 'output_tokens': 136, 'total_tokens': 1157})]}"
      ]
     },
     "execution_count": 37,
     "metadata": {},
     "output_type": "execute_result"
    }
   ],
   "source": [
    "state"
   ]
  }
 ],
 "metadata": {
  "kernelspec": {
   "display_name": "Python 3",
   "language": "python",
   "name": "python3"
  },
  "language_info": {
   "codemirror_mode": {
    "name": "ipython",
    "version": 3
   },
   "file_extension": ".py",
   "mimetype": "text/x-python",
   "name": "python",
   "nbconvert_exporter": "python",
   "pygments_lexer": "ipython3",
   "version": "3.11.7"
  }
 },
 "nbformat": 4,
 "nbformat_minor": 2
}
