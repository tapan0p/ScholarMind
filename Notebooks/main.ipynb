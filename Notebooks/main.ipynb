{
 "cells": [
  {
   "cell_type": "code",
   "execution_count": 5,
   "id": "2ad13060",
   "metadata": {},
   "outputs": [
    {
     "name": "stdout",
     "output_type": "stream",
     "text": [
      "Requirement already satisfied: pyttsx3 in c:\\users\\mahat\\anaconda3\\lib\\site-packages (2.98)\n",
      "Requirement already satisfied: comtypes in c:\\users\\mahat\\anaconda3\\lib\\site-packages (from pyttsx3) (1.4.10)\n",
      "Requirement already satisfied: pypiwin32 in c:\\users\\mahat\\anaconda3\\lib\\site-packages (from pyttsx3) (223)\n",
      "Requirement already satisfied: pywin32 in c:\\users\\mahat\\anaconda3\\lib\\site-packages (from pyttsx3) (305.1)\n",
      "Collecting pydub\n",
      "  Downloading pydub-0.25.1-py2.py3-none-any.whl.metadata (1.4 kB)\n",
      "Downloading pydub-0.25.1-py2.py3-none-any.whl (32 kB)\n",
      "Installing collected packages: pydub\n",
      "Successfully installed pydub-0.25.1\n"
     ]
    }
   ],
   "source": [
    "! pip install pyttsx3\n",
    "! pip install pydub"
   ]
  },
  {
   "cell_type": "code",
   "execution_count": 9,
   "id": "e11e5358",
   "metadata": {},
   "outputs": [],
   "source": [
    "import pyttsx3\n",
    "import json\n",
    "import tempfile\n",
    "import os\n",
    "from pydub import AudioSegment\n",
    "\n",
    "# Load transcript\n",
    "filename = \"call_2025-05-01_15-45.json\"\n",
    "with open(filename, \"r\") as f:\n",
    "    data = json.load(f)\n",
    "\n",
    "# Initialize TTS engine\n",
    "engine = pyttsx3.init()\n",
    "voices = engine.getProperty('voices')\n",
    "\n",
    "# Choose voices (adjust index if needed)\n",
    "agent_voice = voices[1].id  # female\n",
    "customer_voice = voices[0].id  # male\n",
    "\n",
    "# Create list to hold temporary file paths\n",
    "temp_files = []\n",
    "\n",
    "# Generate TTS for each line\n",
    "for i, item in enumerate(data[\"transcript\"]):\n",
    "    with tempfile.NamedTemporaryFile(delete=False, suffix=\".mp3\") as tmp:\n",
    "        voice = agent_voice if item[\"speaker\"] == \"agent\" else customer_voice\n",
    "        engine.setProperty('voice', voice)\n",
    "        engine.save_to_file(item[\"text\"], tmp.name)\n",
    "        temp_files.append(tmp.name)\n",
    "\n",
    "engine.runAndWait()\n",
    "\n",
    "# Combine all audio chunks\n",
    "combined = AudioSegment.empty()\n",
    "for file in temp_files:\n",
    "    combined += AudioSegment.from_file(file)\n",
    "\n",
    "# Export final MP3\n",
    "combined.export(f\"{filename}.mp3\", format=\"mp3\")\n",
    "\n",
    "# Clean up temporary files\n",
    "for file in temp_files:\n",
    "    os.remove(file)\n"
   ]
  }
 ],
 "metadata": {
  "kernelspec": {
   "display_name": "Python 3",
   "language": "python",
   "name": "python3"
  },
  "language_info": {
   "codemirror_mode": {
    "name": "ipython",
    "version": 3
   },
   "file_extension": ".py",
   "mimetype": "text/x-python",
   "name": "python",
   "nbconvert_exporter": "python",
   "pygments_lexer": "ipython3",
   "version": "3.11.7"
  }
 },
 "nbformat": 4,
 "nbformat_minor": 5
}
