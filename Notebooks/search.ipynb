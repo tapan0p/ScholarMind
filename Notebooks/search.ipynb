{
 "cells": [
  {
   "cell_type": "code",
   "execution_count": 1,
   "metadata": {},
   "outputs": [
    {
     "data": {
      "text/plain": [
       "True"
      ]
     },
     "execution_count": 1,
     "metadata": {},
     "output_type": "execute_result"
    }
   ],
   "source": [
    "from langchain_groq import ChatGroq\n",
    "from typing import Annotated\n",
    "from typing_extensions import TypedDict \n",
    "from langgraph.graph import StateGraph,START,END \n",
    "from langgraph.graph.message import add_messages\n",
    "from langchain_core.messages import HumanMessage, AIMessage\n",
    "from dotenv import load_dotenv\n",
    "load_dotenv()\n"
   ]
  },
  {
   "cell_type": "code",
   "execution_count": 5,
   "metadata": {},
   "outputs": [],
   "source": [
    "class State(TypedDict):\n",
    "    messages: str \n",
    "\n",
    "\n",
    "llm = ChatGroq(model_name=\"qwen-qwq-32b\")\n",
    "\n",
    "def chatbot(state:State):\n",
    "    return {\"messages\":[llm.invoke(state[\"messages\"]).content]}\n",
    "\n",
    "\n",
    "workflow = StateGraph(State)\n",
    "\n",
    "workflow.add_node(\"chatbot\",chatbot)\n",
    "workflow.add_edge(START, \"chatbot\")\n",
    "workflow.add_edge(\"chatbot\", END)\n",
    "\n",
    "graph = workflow.compile()\n",
    "\n"
   ]
  },
  {
   "cell_type": "code",
   "execution_count": 3,
   "metadata": {},
   "outputs": [
    {
     "data": {
      "image/png": "[encoded data removed]",
      "text/plain": [
       "<IPython.core.display.Image object>"
      ]
     },
     "metadata": {},
     "output_type": "display_data"
    }
   ],
   "source": [
    "from IPython.display import Image, display\n",
    "\n",
    "try:\n",
    "    display(Image(graph.get_graph().draw_mermaid_png()))\n",
    "except Exception:\n",
    "    pass"
   ]
  },
  {
   "cell_type": "code",
   "execution_count": 6,
   "metadata": {},
   "outputs": [],
   "source": [
    "result = graph.invoke({\"messages\": \"what is langchain?\"})"
   ]
  },
  {
   "cell_type": "code",
   "execution_count": 7,
   "metadata": {},
   "outputs": [
    {
     "name": "stdout",
     "output_type": "stream",
     "text": [
      "\n",
      "<think>\n",
      "Okay, I need to explain what LangChain is. Let me start by recalling what I know. LangChain is a framework related to AI and large language models. It's used for developing applications with LLMs. But I should be more specific. \n",
      "\n",
      "First, the user is asking for a definition, so I should state what it is upfront. It's a framework, right? So maybe start with that. Then mention that it's designed to simplify the process of building applications that leverage large language models (LLMs). \n",
      "\n",
      "I should outline its key features. Integration with different LLMs, handling workflows, modular components, maybe tools for data processing, and examples of use cases. Wait, the user might also want to know why someone would use LangChain instead of just working directly with an LLM API. So maybe include that it abstracts away some complexity, provides best practices, and allows for more complex workflows.\n",
      "\n",
      "Let me think about the components. There's the idea of chains, agents, memory, and tools. Chains are sequences of LLM calls and other operations. Agents use LLMs to decide which tools to use. Tools are the external functions, like APIs or databases. Memory allows retaining context between interactions. So I should explain these concepts briefly.\n",
      "\n",
      "Also, LangChain supports multiple LLM providers, like OpenAI, Anthropic, etc. That's important because it reduces vendor lock-in. \n",
      "\n",
      "Use cases might include chatbots, document analysis, automation, etc. Maybe give some examples like creating a Q&A system over documents or integrating with a database.\n",
      "\n",
      "I should also mention that it's open-source, which is a key point. The user might be considering using it for a project, so highlighting its flexibility and community support could be useful.\n",
      "\n",
      "Wait, are there other features? Oh right, it also helps in building custom applications without needing to reinvent the wheel. So it's about reusability and modularity. The components can be combined in different ways.\n",
      "\n",
      "Hmm, I should structure the answer in a clear way. Start with a definition, then key features, components, use cases, and maybe benefits. Make sure it's understandable for someone who might not be deeply technical, but also covers the technical aspects enough for someone looking to use it.\n",
      "\n",
      "Possible pitfalls to avoid: getting too bogged down in technical jargon without explaining terms, or being too vague. Need to balance simplicity with accuracy.\n",
      "\n",
      "Let me put it all together step by step. Start with a concise definition, then break down each component. Use bullet points or sections for clarity. Maybe mention some examples of tools and agents. Also, highlight the ecosystem and community aspects.\n",
      "\n",
      "Wait, the user might be confused between LangChain and other similar libraries or frameworks. Maybe a brief comparison isn't necessary here unless it's part of the explanation, but perhaps stick to the question asked.\n",
      "\n",
      "I should also check if there are any recent updates or changes to LangChain's features that I should include, but since my knowledge is up to 2023, I'll stick to the general structure.\n",
      "\n",
      "Alright, structuring the answer now: Definition, key features (modular components, integration with LLMs, workflows), then explain the components like Chains, Agents, Tools, Memory. Then use cases, benefits, and maybe conclude with why someone would use it. Make sure to keep it clear and thorough without being too verbose.\n",
      "</think>\n",
      "\n",
      "**LangChain** is an open-source framework designed to simplify the process of building applications that integrate large language models (LLMs) like GPT, Claude, and others. It provides a structured way to create, test, and deploy AI-driven applications by abstracting away much of the complexity involved in working with LLMs directly.\n",
      "\n",
      "---\n",
      "\n",
      "### **Key Features**\n",
      "1. **Modular Architecture**  \n",
      "   LangChain breaks down common tasks into reusable components, making it easier to combine different parts (e.g., LLMs, tools, memory) without reinventing the wheel. Key components include:\n",
      "   - **Chains**: Sequences of operations (e.g., LLM calls, data processing) that can be chained together. Example: A chain that first processes user input with an LLM, then queries a database.\n",
      "   - **Agents**: Systems that use LLMs to decide which tools or chains to execute based on the input. Agents act as \"intelligent\" controllers in workflows.\n",
      "   - **Tools**: External functions or APIs (e.g., web search, databases, API integrations) that agents can call.\n",
      "   - **Memory**: Tracks context or history across interactions (e.g., remembering previous user messages in a chatbot).\n",
      "\n",
      "2. **Integration with LLMs**  \n",
      "   Supports multiple LLM providers (OpenAI, Anthropic, Hugging Face, etc.), allowing developers to switch between models or mix-and-match without rewriting code.\n",
      "\n",
      "3. **Workflow Automation**  \n",
      "   Enables complex workflows, such as:\n",
      "   - Combining an LLM with a database to answer questions about structured data.\n",
      "   - Creating chatbots that remember previous interactions (via memory).\n",
      "   - Building agents that automatically select the best tool for a task (e.g., using a weather API if a user asks for the forecast).\n",
      "\n",
      "4. **Customization**  \n",
      "   Provides templates for common use cases (e.g., question-answering systems) while allowing customization for unique requirements.\n",
      "\n",
      "---\n",
      "\n",
      "### **Core Components Explained**\n",
      "- **Chains**:  \n",
      "  Predefined workflows that combine LLMs with other operations. For example:\n",
      "  - A \"text summarization\" chain might take a document, run it through an LLM to generate a summary, then format the output.\n",
      "  \n",
      "- **Agents**:  \n",
      "  Use LLMs to \"decide\" which tools to use. For instance:\n",
      "  - An agent might use Google's search API to find information if the user’s query is about current events.\n",
      "\n",
      "- **Tools**:  \n",
      "  External functions that extend LLM capabilities. Examples include:\n",
      "  - Database query tools (e.g., querying a SQL database).\n",
      "  - Web scraping tools.\n",
      "  - API integrations (e.g., OpenWeatherMap).\n",
      "\n",
      "- **Memory**:  \n",
      "  Stores context across user interactions. For example:\n",
      "  - A chatbot remembers a user’s preferences from earlier conversations.\n",
      "\n",
      "---\n",
      "\n",
      "### **Use Cases**\n",
      "LangChain is ideal for:\n",
      "- **Chatbots & Assistants**: Building conversational interfaces with context-aware responses.\n",
      "- **Document Analysis**: Summarizing, extracting, or answering questions about documents (e.g., legal contracts, research papers).\n",
      "- **Automated Workflows**: Integrating LLMs with other systems (e.g., booking flights via an LLM-driven interface).\n",
      "- **Custom Applications**: Prototyping ideas quickly, like a personalized recommendation engine.\n",
      "\n",
      "---\n",
      "\n",
      "### **Why Use LangChain?**\n",
      "- **Speed**: Reduces time spent on boilerplate code (e.g., handling LLM API calls).\n",
      "- **Flexibility**: Works with any LLM and integrates with existing tools/APIs.\n",
      "- **Scalability**: Supports both simple scripts and complex, multi-step workflows.\n",
      "- **Community & Ecosystem**: Backed by an active community, with pre-built tools and examples.\n",
      "\n",
      "---\n",
      "\n",
      "### **Example Workflow**\n",
      "Imagine building a **Q&A system for a company’s internal documentation**:\n",
      "1. A user asks, \"What are our company’s return policies?\"\n",
      "2. The **agent** routes the query to a **chain** that:\n",
      "   - Uses an LLM to parse the question.\n",
      "   - Queries a database via a **tool** to retrieve relevant documents.\n",
      "   - Summarizes the answer using another LLM call.\n",
      "3. The system remembers previous questions (via **memory**) to avoid redundant answers.\n",
      "\n",
      "---\n",
      "\n",
      "### **Key Benefits**\n",
      "- **Abstraction**: Handles common challenges like API handling, error management, and context tracking.\n",
      "- **Productivity**: Allows developers to focus on the logic of their application rather than low-level details.\n",
      "- **Adaptability**: Easily switch LLMs or tools as needs evolve.\n",
      "\n",
      "---\n",
      "\n",
      "### **Who Uses LangChain?**\n",
      "- Developers building AI applications.\n",
      "- Researchers prototyping new LLM-based systems.\n",
      "- Teams needing to integrate LLMs into existing workflows (e.g., customer support chatbots, data analysis tools).\n",
      "\n",
      "LangChain lowers the barrier to entry for LLM-based development, enabling faster iteration and more efficient use of AI capabilities.\n"
     ]
    }
   ],
   "source": [
    "print(result[\"messages\"][0])"
   ]
  },
  {
   "cell_type": "code",
   "execution_count": 9,
   "metadata": {},
   "outputs": [
    {
     "name": "stdout",
     "output_type": "stream",
     "text": [
      "Collecting arxiv\n",
      "  Downloading arxiv-2.2.0-py3-none-any.whl.metadata (6.3 kB)\n",
      "Collecting feedparser~=6.0.10 (from arxiv)\n",
      "  Using cached feedparser-6.0.11-py3-none-any.whl.metadata (2.4 kB)\n",
      "Requirement already satisfied: requests~=2.32.0 in c:\\users\\mahat\\anaconda3\\lib\\site-packages (from arxiv) (2.32.3)\n",
      "Collecting sgmllib3k (from feedparser~=6.0.10->arxiv)\n",
      "  Using cached sgmllib3k-1.0.0-py3-none-any.whl\n",
      "Requirement already satisfied: charset-normalizer<4,>=2 in c:\\users\\mahat\\anaconda3\\lib\\site-packages (from requests~=2.32.0->arxiv) (2.0.4)\n",
      "Requirement already satisfied: idna<4,>=2.5 in c:\\users\\mahat\\anaconda3\\lib\\site-packages (from requests~=2.32.0->arxiv) (3.4)\n",
      "Requirement already satisfied: urllib3<3,>=1.21.1 in c:\\users\\mahat\\anaconda3\\lib\\site-packages (from requests~=2.32.0->arxiv) (2.0.7)\n",
      "Requirement already satisfied: certifi>=2017.4.17 in c:\\users\\mahat\\anaconda3\\lib\\site-packages (from requests~=2.32.0->arxiv) (2024.2.2)\n",
      "Downloading arxiv-2.2.0-py3-none-any.whl (11 kB)\n",
      "Using cached feedparser-6.0.11-py3-none-any.whl (81 kB)\n",
      "Installing collected packages: sgmllib3k, feedparser, arxiv\n",
      "Successfully installed arxiv-2.2.0 feedparser-6.0.11 sgmllib3k-1.0.0\n"
     ]
    }
   ],
   "source": [
    "!pip install arxiv"
   ]
  },
  {
   "cell_type": "code",
   "execution_count": null,
   "metadata": {},
   "outputs": [],
   "source": [
    "from langchain.tools import tool\n",
    "from typing import List, Dict, Any, Optional\n",
    "import arxiv\n",
    "\n",
    "@tool\n",
    "def search_paper(query: str, max_results: int = 5) -> List[Dict[str, Any]]:\n",
    "    \"\"\"\n",
    "    Usefull when you need to search for papers based on a query.\n",
    "\n",
    "    Args:\n",
    "        query: The search query string.\n",
    "        max_results: The maximum number of results to return. Defaults to 5.\n",
    "\n",
    "    Returns:\n",
    "        A list of dictionaries, where each dictionary contains details of a paper\n",
    "        (title, authors, summary, published date, pdf_url). Returns an empty list\n",
    "        if an error occurs or no papers are found.\n",
    "    \"\"\"\n",
    "    client = arxiv.Client()\n",
    "    search = arxiv.Search(\n",
    "        query = query,\n",
    "        max_results = max_results,\n",
    "        sort_by = arxiv.SortCriterion.Relevance\n",
    "    )\n",
    "\n",
    "    results = list(client.results(search))\n",
    "    return results\n"
   ]
  },
  {
   "cell_type": "code",
   "execution_count": null,
   "metadata": {},
   "outputs": [],
   "source": []
  }
 ],
 "metadata": {
  "kernelspec": {
   "display_name": "Python 3",
   "language": "python",
   "name": "python3"
  },
  "language_info": {
   "codemirror_mode": {
    "name": "ipython",
    "version": 3
   },
   "file_extension": ".py",
   "mimetype": "text/x-python",
   "name": "python",
   "nbconvert_exporter": "python",
   "pygments_lexer": "ipython3",
   "version": "3.11.7"
  }
 },
 "nbformat": 4,
 "nbformat_minor": 2
}
